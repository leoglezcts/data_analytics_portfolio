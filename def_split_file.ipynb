{
 "cells": [
  {
   "cell_type": "code",
   "execution_count": 6,
   "metadata": {},
   "outputs": [],
   "source": [
    "# importar librerías\n",
    "import pandas as pd"
   ]
  },
  {
   "cell_type": "code",
   "execution_count": 7,
   "metadata": {},
   "outputs": [],
   "source": [
    "#función para dividir el archivo\n",
    "\n",
    "def split_csv(file_path, output_path1, output_path2):\n",
    "    # Leer el archivo CSV\n",
    "    df = pd.read_csv(file_path, encoding = \"latin1\", sep= \",\")\n",
    "\n",
    "    # Calcular el punto de división\n",
    "    split_point = len(df) // 2\n",
    "\n",
    "    # Dividir el DataFrame en dos partes\n",
    "    df1 = df.iloc[:split_point]\n",
    "    df2 = df.iloc[split_point:]\n",
    "\n",
    "    # Guardar las dos partes en archivos CSV separados\n",
    "    df1.to_csv(output_path1, index=False, encoding = \"latin1\", sep= \",\")\n",
    "    df2.to_csv(output_path2, index=False, encoding = \"latin1\", sep= \",\")\n",
    "\n",
    "    return 'Felicidades has divido tu base en dos archivos'"
   ]
  },
  {
   "cell_type": "code",
   "execution_count": 13,
   "metadata": {},
   "outputs": [
    {
     "data": {
      "text/plain": [
       "'Felicidades has divido tu base en dos archivos'"
      ]
     },
     "execution_count": 13,
     "metadata": {},
     "output_type": "execute_result"
    }
   ],
   "source": [
    "# Ejemplo de uso\n",
    "split_csv(r'C:\\Users\\lgonzalezc\\Documents\\Trabajo\\DB\\Newsletter\\2025\\Enero\\020124\\Base 3\\Base_3_ene_limpia.csv', \n",
    "          r'C:\\Users\\lgonzalezc\\Documents\\Trabajo\\DB\\Newsletter\\2025\\Enero\\020124\\Base 3\\Base_3_ene_limpia_1.csv',\n",
    "          r'C:\\Users\\lgonzalezc\\Documents\\Trabajo\\DB\\Newsletter\\2025\\Enero\\020124\\Base 3\\Base_3_ene_limpia_2.csv')"
   ]
  }
 ],
 "metadata": {
  "kernelspec": {
   "display_name": "Python 3",
   "language": "python",
   "name": "python3"
  },
  "language_info": {
   "codemirror_mode": {
    "name": "ipython",
    "version": 3
   },
   "file_extension": ".py",
   "mimetype": "text/x-python",
   "name": "python",
   "nbconvert_exporter": "python",
   "pygments_lexer": "ipython3",
   "version": "3.13.0"
  }
 },
 "nbformat": 4,
 "nbformat_minor": 2
}
