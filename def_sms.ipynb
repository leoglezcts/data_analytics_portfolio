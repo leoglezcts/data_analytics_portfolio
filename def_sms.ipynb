{
 "cells": [
  {
   "cell_type": "markdown",
   "metadata": {},
   "source": [
    "**Librerías**"
   ]
  },
  {
   "cell_type": "code",
   "execution_count": 12,
   "metadata": {},
   "outputs": [],
   "source": [
    "import pandas as pd\n",
    "import re"
   ]
  },
  {
   "cell_type": "markdown",
   "metadata": {},
   "source": [
    "**Declaración de Función Limpieza de SMS**"
   ]
  },
  {
   "cell_type": "code",
   "execution_count": null,
   "metadata": {},
   "outputs": [],
   "source": [
    "def clean_sms_v2(file_path, output_path):\n",
    "    '''Función para limpiar bases de SMS para validar \n",
    "    que el número sea igual a 10 dígitos y los nombres \n",
    "    de los clientes no contengan carácteres especiales.'''\n",
    "\n",
    "    # Leer archivo\n",
    "    print(\"FUNCIÓN PARA LIMPIEZA DE BASES DE SMS\")\n",
    "    df = pd.read_csv(file_path)\n",
    "    print(f\"Tu DataFrame tiene: {len(df)} registros antes de la limpieza\")\n",
    "    print()\n",
    "\n",
    "    # Limpiar el campo NOMBRES (primer nombre, sin caracteres especiales ni números)\n",
    "    df['NOMBRES'] = (\n",
    "        df['NOMBRES']\n",
    "        .str.split()\n",
    "        .str[0]\n",
    "        .str.replace(r'[^A-Za-z]+', \"\" , regex=True)\n",
    "    )\n",
    "    \n",
    "    # Remplazos de palabras particulares\n",
    "    df['NOMBRES'] = df['NOMBRES'].replace('MA', 'MARIA')\n",
    "    df['NOMBRES'] = df['NOMBRES'].replace('A', 'ESTIMADO')\n",
    "\n",
    "    # Sección de nulos\n",
    "    print(\"SECCIÓN DE NULOS\")\n",
    "    print(\"Número de registros nulos eliminados en 'TELEFONO':\", df['TELEFONO'].isna().sum())\n",
    "    df.replace(\"\", np.nan, inplace=True)\n",
    "    df = df[df['TELEFONO'].notna()].reset_index(drop=True)\n",
    "    print(\"Número de registros llenados con 'ESTIMADO' en 'NOMBRES':\", df['NOMBRES'].isna().sum())\n",
    "    df['NOMBRES'] = df['NOMBRES'].fillna('ESTIMADO')\n",
    "    print()\n",
    "    \n",
    "    #Conversión de datos\n",
    "    df['NOMBRES'] = df['NOMBRES'].astype(str)\n",
    "    df['TELEFONO'] = df['TELEFONO'].astype(float)\n",
    "    df['TELEFONO'] = df['TELEFONO'].astype(int)\n",
    "    df['TELEFONO'] = df['TELEFONO'].astype(str)\n",
    "\n",
    "    # Eliminar múltiples números celulares (solo conservar el primero)\n",
    "    df['TELEFONO'] = df['TELEFONO'].str.split().str[0]\n",
    "\n",
    "    # Calcular registros con longitud diferente a 10\n",
    "    registros_invalidos_10 = len(df[df['TELEFONO'].str.len() != 10])\n",
    "\n",
    "    # Filtrar registros con números de teléfono válidos (10 dígitos y no seriados)\n",
    "    invalid_numbers = ['5555555555', '0000000000', '1234567890']\n",
    "    registros_invalidos_lista = len(df[df['TELEFONO'].isin(invalid_numbers)])\n",
    "\n",
    "    df = df[\n",
    "        (df['TELEFONO'].str.len() == 10) &\n",
    "        (~df['TELEFONO'].isin(invalid_numbers))\n",
    "    ]\n",
    "    \n",
    "    print (\"SECCIÓN DE NÚMEROS ERRÓNEOS\")\n",
    "    print(f\"Registros eliminados por longitud de teléfono diferente a diez: {registros_invalidos_10}\")\n",
    "    print(f\"Registros eliminados por coincidir con números inválidos: {registros_invalidos_lista}\")\n",
    "    print()\n",
    "\n",
    "    # Exportación  de DataFrame limpio\n",
    "    print(f\"Tu DataFrame tiene: {len(df)} registros despúes de la limpieza\")\n",
    "    \n",
    "    df.to_csv(output_path, index=False)\n",
    "\n",
    "    return \"Felicidades has limpiado tu base de sms\"\n",
    "\n"
   ]
  },
  {
   "cell_type": "markdown",
   "metadata": {},
   "source": [
    "**Aplicación**"
   ]
  },
  {
   "cell_type": "code",
   "execution_count": 14,
   "metadata": {},
   "outputs": [
    {
     "data": {
      "text/plain": [
       "'Felicidades, has limpiado tu base de SMS'"
      ]
     },
     "execution_count": 14,
     "metadata": {},
     "output_type": "execute_result"
    }
   ],
   "source": [
    "# Ejemplo de uso\n",
    "clean_sms(r\"C:\\Users\\lgonzalezc\\Downloads\\prueba_sms.csv\",\n",
    "          r\"C:\\Users\\lgonzalezc\\Downloads\\prueba_sms_limpia.csv\"\n",
    "          )\n"
   ]
  }
 ],
 "metadata": {
  "kernelspec": {
   "display_name": "Python 3",
   "language": "python",
   "name": "python3"
  },
  "language_info": {
   "codemirror_mode": {
    "name": "ipython",
    "version": 3
   },
   "file_extension": ".py",
   "mimetype": "text/x-python",
   "name": "python",
   "nbconvert_exporter": "python",
   "pygments_lexer": "ipython3",
   "version": "3.13.0"
  }
 },
 "nbformat": 4,
 "nbformat_minor": 2
}
