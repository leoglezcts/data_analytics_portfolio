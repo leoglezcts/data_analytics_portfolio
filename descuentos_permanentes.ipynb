{
 "cells": [
  {
   "cell_type": "markdown",
   "metadata": {},
   "source": [
    "# DESCUENTOS PERMANENTES"
   ]
  },
  {
   "cell_type": "code",
   "execution_count": 10,
   "metadata": {},
   "outputs": [],
   "source": [
    "#librerias\n",
    "import pandas as pd \n",
    "import re\n",
    "from def_correo_python import limpiar_correos"
   ]
  },
  {
   "cell_type": "markdown",
   "metadata": {},
   "source": [
    "**Declaración de función**"
   ]
  },
  {
   "cell_type": "code",
   "execution_count": 11,
   "metadata": {},
   "outputs": [],
   "source": [
    "#declaración de función\n",
    "def descuentos_permanentes (input_csv,df_izzi_sms_output,df_wizz_sms_output,df_izzi_email_output,df_wizz_email_output):\n",
    "    df = pd.read_csv(input_csv)\n",
    "    df_izzi = df.query(\"TIPO_CLIENTE == 'IZZI'\")\n",
    "    df_wizz = df.query(\"TIPO_CLIENTE == 'WIZZ'\")\n",
    "\n",
    "    #conteo de REPEP para IZZI\n",
    "    print(\"SECCIÓN DE REPEP\")\n",
    "    izzi_repep = df_izzi.query(\"FLAG_REPEP == 'Y'\")\n",
    "    print(f'El número de registros en REPEP en IZZI es de {len(izzi_repep)}')\n",
    "    print()\n",
    "    #conteo de REPEP para WIZZ\n",
    "    wizz_repep = df_wizz.query(\"FLAG_REPEP == 'Y'\")\n",
    "    print(f'El número de registros en REPEP en WIZZ es de {len(wizz_repep)}')\n",
    "    print()\n",
    "\n",
    "    #eliminación de repep\n",
    "    df_izzi = df_izzi[df_izzi['TIPO_CLIENTE'] !='Y']\n",
    "    df_wizz = df_wizz[df_wizz['TIPO_CLIENTE'] !='Y']\n",
    "\n",
    "    #eliminación de campos IZZI\n",
    "    df_izzi_mail = df_izzi.drop(columns='TEL_CELULAR')\n",
    "    df_izzi_sms = df_izzi.drop(columns=['NOMBRES','EMAIL'])\n",
    "    \n",
    "    #eliminación de campos WIZZ\n",
    "    df_wizz_mail = df_wizz.drop(columns='TEL_CELULAR')\n",
    "    df_wizz_sms = df_wizz.drop(columns=['NOMBRES','EMAIL'])\n",
    "\n",
    "    #limpieza de bases sms IZZI\n",
    "    \n",
    "    #dividir la columna 'TEL_CELULAR' por espacio y conservar solo el primer número\n",
    "    df_izzi_sms['TEL_CELULAR'] = df_izzi_sms['TEL_CELULAR'].str.split().str[0]\n",
    "    #filtrar aquellos celulares diferentes a 10\n",
    "    df_izzi_sms = df_izzi_sms[df_izzi_sms['TEL_CELULAR'].str.len() == 10]\n",
    "    # Filtros de números repetidos y seriados en SMS IZZI\n",
    "    print(\"SECCIÓN DE números válidos\")\n",
    "    print(f\"Números válidos en SMS IZZI antes de limpieza: {len(df_izzi_sms)}\")\n",
    "    patron_repetidos = r'^(.)\\1{9}$'  # Detecta números repetidos como 1111111111\n",
    "    patron_seriados = r'^(1234567890|9876543210)$'  # Detecta números seriados comunes\n",
    "    df_izzi_sms = df_izzi_sms[~df_izzi_sms['TEL_CELULAR'].str.match(f\"{patron_repetidos}|{patron_seriados}\", na=False)]\n",
    "    print(f\"Números válidos en SMS IZZI después de limpieza: {len(df_izzi_sms)}\")\n",
    "\n",
    "    #limpieza de bases SMS WIZZ\n",
    "\n",
    "    #dividir la columna 'TEL_CELULAR' por espacio y conservar solo el primer número\n",
    "    df_wizz_sms['TEL_CELULAR'] = df_wizz_sms['TEL_CELULAR'].str.split().str[0]\n",
    "    #filtrar aquellos celulares diferentes a 10\n",
    "    df_wizz_sms = df_izzi_sms[df_izzi_sms['TEL_CELULAR'].str.len()==10]\n",
    "    print(f\"Números válidos en SMS WIZZ antes de limpieza: {len(df_wizz_sms)}\")\n",
    "    # Filtros de números repetidos y seriados en SMS WIZZ\n",
    "    df_wizz_sms = df_wizz_sms[~df_wizz_sms['TEL_CELULAR'].str.match(f\"{patron_repetidos}|{patron_seriados}\", na=False)]\n",
    "    print(f\"Números válidos en SMS WIZZ después de limpieza: {len(df_wizz_sms)}\")\n",
    "\n",
    "    #exportaciones sms\n",
    "    df_izzi_sms.to_csv(df_izzi_sms_output,index= False)\n",
    "    df_wizz_sms.to_csv(df_wizz_sms_output,index= False)\n",
    "    #exportaciones mail\n",
    "    df_izzi_mail.to_csv(df_izzi_email_output,index= False)\n",
    "    df_wizz_mail.to_csv(df_wizz_email_output, index = False)\n",
    "\n"
   ]
  },
  {
   "cell_type": "markdown",
   "metadata": {},
   "source": [
    "Aplicación de función"
   ]
  },
  {
   "cell_type": "code",
   "execution_count": 12,
   "metadata": {},
   "outputs": [
    {
     "name": "stdout",
     "output_type": "stream",
     "text": [
      "SECCIÓN DE REPEP\n",
      "El número de registros en REPEP en IZZI es de 2295\n",
      "\n",
      "El número de registros en REPEP en WIZZ es de 34\n",
      "\n",
      "SECCIÓN DE números válidos\n",
      "Números válidos en SMS IZZI antes de limpieza: 96581\n",
      "Números válidos en SMS IZZI después de limpieza: 96499\n",
      "Números válidos en SMS WIZZ antes de limpieza: 96499\n",
      "Números válidos en SMS WIZZ después de limpieza: 96499\n"
     ]
    }
   ],
   "source": [
    "descuentos_permanentes(r'C:\\Documentos\\Trabajo\\DB\\DESCUENTOS PERMANENTES\\DB BI\\Noviembre\\2base\\Base general 29 nov.csv',\n",
    "                       r'C:\\Documentos\\Trabajo\\DB\\DESCUENTOS PERMANENTES\\DB BI\\Noviembre\\2base\\bd2_izzi_sms.csv',\n",
    "                       r'C:\\Documentos\\Trabajo\\DB\\DESCUENTOS PERMANENTES\\DB BI\\Noviembre\\2base\\bd2_wizz_sms.csv',\n",
    "                       r'C:\\Documentos\\Trabajo\\DB\\DESCUENTOS PERMANENTES\\DB BI\\Noviembre\\2base\\bd2_izzi_email.csv',\n",
    "                       r'C:\\Documentos\\Trabajo\\DB\\DESCUENTOS PERMANENTES\\DB BI\\Noviembre\\2base\\bd2_wizz_email.csv')"
   ]
  },
  {
   "cell_type": "markdown",
   "metadata": {},
   "source": [
    "**Lista Regex**"
   ]
  },
  {
   "cell_type": "code",
   "execution_count": 13,
   "metadata": {},
   "outputs": [],
   "source": [
    "wrong_words_regex = [\n",
    "    r'@@',                               # Doble arroba\n",
    "    r'\\.\\.',                             # Doble punto\n",
    "    r'\\.com@',                           # \".com\" seguido de arroba\n",
    "    r'gm?ial|gnial|dumy|notene',         # Errores tipográficos comunes,\n",
    "    r'@(yopmail)',                       # Excluir solo el dominio \"yopmail\"\n",
    "    r'(dummy|prueba|ejemplo|temporal)',  # Palabras genéricas o placeholders\n",
    "    r'[\\+\\&:,\"\\' ]',                     # Caracteres especiales o espacios\n",
    "    r'\\bno_tiene\\b|\\bNO TIENE\\b',        # Frases exactas (en mayúsculas y minúsculas)\n",
    "    r'\\b(no|sin)_correo\\b',              # \"no correo\" o \"sin correo\"\n",
    "    r'\\b(?:notengo|noexiste|nocuentaconcorreo)\\b', # Frases comunes que indican falta de correo\n",
    "    r'\\bcorreoprueba\\b',                 # Placeholder \"correoprueba\"\n",
    "    r'ñ',                                # Caracter \"ñ\"\n",
    "    r'^.*clienteizzi.*$',                # Correos que inicien con cliente izzi\n",
    "    r'^(.*izzi.*)@.*$',\n",
    "    r'^(1\\.21|1212|1122|121|12.1|1\\.2)', # Correos que jueguen con la secuencia de números 1 y 2\n",
    "    r'^(618)',                           # Correos que jueguen con la secuencia de números 6\n",
    "    r'^(sinusuario|demientras|notengo)', # Frases comunes que indican falta de correo\n",
    "    r'^[._]',                            # Correos que comienzan con punto o guion bajo\n",
    "    r'^[^a-zA-Z0-9]',                    # Correos que comienzan con caracteres no alfanuméricos\n",
    "    r'^0+@[a-zA-Z0-9.-]+\\.[a-zA-Z]{2,}$',# Nuevas condiciones: solo ceros antes del dominio\n",
    "    r'^1@[a-zA-Z0-9.-]+\\.[a-zA-Z]{2,}$', # Nuevas condiciones: solo \"1\" antes del arroba\n",
    "    r'^virtual@.*',                      # Solo elimina correos que comienzan con \"virtual\"\n",
    "    r'^(notiene|notienecorreo|confirmaciones|provisional)@.*$', #Placeholders\n",
    "    r'^(sincorreo|sinnombre|na|izzi.generico)@.*$', #Placeholders\n",
    "    r'^facturas[-_]?izzi.*$',                       #facturas_izzi o facturasizzi\n",
    "    r'^(clientenuevo|clienteizzi|izzi|aaa|om)@.*$', #Placeholders\n",
    "    r'^(lacasadelbrujo|nohaycorreo|ninguno)@.*$',   #Placeholders\n",
    "    r'^(manololo|sinmail|n|ngonzalez|generico)@.*$',#Placeholders\n",
    "    r'^(atencionalcliente|izzigenerico|p-ngonzalezg|a.empresarial)@.*$',#Placeholders\n",
    "    r'^(ventas\\d+clientes|xxx|generico\\d+)@.*$',    #Placeholders\n",
    "    r'^(jesus|jose)@.*$|^sincorreo\\d+@.*$',         #Nombres de tecnicos\n",
    "    r'^(correo|123456|sin.correo|no.se.lo.sabe|wizzgenerico)@.*$',#Placeholders\n",
    "    r'^(1234123|1.g|001|no.tengo|no.tiene|no|)@.*$',#Placeholders\n",
    "    r'^(abc|abc123|atc|sincontacto|iz.z.ot.el.e)@.*$', #Placeholders\n",
    "    r'^(no_tienecorreo|no_se_me_ocurrio_otro|no.tiene_correo)@.*$', #Placeholders\n",
    "    r'^(no_tiene_correo|no.aplica|no.maneja.correo)@.*$', #Placeholders\n",
    "    r'^(noasignacorreo|nobrinda|nocorreo|nocorreoelectronico)@.*$', #Placeholders\n",
    "    r'^(nocuenta[\\w-]+|nodejo[\\w-]+|noda[\\w-]+|nodesea[\\w-]+)@', #No cuenta\n",
    "    r'([\\w.-]*notiene[\\w.-]*@|[\\w.-]+notiene[\\w.-]*)', #\"nocuenta\" al inicio del @ o después \n",
    "    r'([\\w.-]*@notiene[\\w.-]*)',                    #\"nocuenta\" después del @\n",
    "    r'^123@',                                       #Empieza con 123@ \n",
    "    r'^[^@]*$',                                     #No contiene @\n",
    "    r'\\.$',                                         #Termina con un punto final\n",
    "    r'@.*@',                                        #Múltiples @ no consecutivos\n",
    "    r\"^[a-zA-Z0-9]{1,2}@[\\w.-]+\\.[a-zA-Z]{2,}$\",    #1 o 2 dígitos antes del @\n",
    "    r'^z+@',                                        #correos que solo contengan z antes del @\n",
    "                                    \n",
    "\n",
    "]"
   ]
  },
  {
   "cell_type": "code",
   "execution_count": 14,
   "metadata": {},
   "outputs": [
    {
     "ename": "NameError",
     "evalue": "name 'pd' is not defined",
     "output_type": "error",
     "traceback": [
      "\u001b[1;31m---------------------------------------------------------------------------\u001b[0m",
      "\u001b[1;31mNameError\u001b[0m                                 Traceback (most recent call last)",
      "Cell \u001b[1;32mIn[14], line 1\u001b[0m\n\u001b[1;32m----> 1\u001b[0m \u001b[43mlimpiar_correos\u001b[49m\u001b[43m(\u001b[49m\u001b[38;5;124;43mr\u001b[39;49m\u001b[38;5;124;43m'\u001b[39;49m\u001b[38;5;124;43mC:\u001b[39;49m\u001b[38;5;124;43m\\\u001b[39;49m\u001b[38;5;124;43mDocumentos\u001b[39;49m\u001b[38;5;124;43m\\\u001b[39;49m\u001b[38;5;124;43mTrabajo\u001b[39;49m\u001b[38;5;124;43m\\\u001b[39;49m\u001b[38;5;124;43mDB\u001b[39;49m\u001b[38;5;124;43m\\\u001b[39;49m\u001b[38;5;124;43mDESCUENTOS PERMANENTES\u001b[39;49m\u001b[38;5;124;43m\\\u001b[39;49m\u001b[38;5;124;43mDB BI\u001b[39;49m\u001b[38;5;124;43m\\\u001b[39;49m\u001b[38;5;124;43mNoviembre\u001b[39;49m\u001b[38;5;124;43m\\\u001b[39;49m\u001b[38;5;124;43m2base\u001b[39;49m\u001b[38;5;124;43m\\\u001b[39;49m\u001b[38;5;124;43mbd2_izzi_email.csv\u001b[39;49m\u001b[38;5;124;43m'\u001b[39;49m\u001b[43m,\u001b[49m\n\u001b[0;32m      2\u001b[0m \u001b[43m                \u001b[49m\u001b[38;5;124;43mr\u001b[39;49m\u001b[38;5;124;43m'\u001b[39;49m\u001b[38;5;124;43mC:\u001b[39;49m\u001b[38;5;124;43m\\\u001b[39;49m\u001b[38;5;124;43mDocumentos\u001b[39;49m\u001b[38;5;124;43m\\\u001b[39;49m\u001b[38;5;124;43mTrabajo\u001b[39;49m\u001b[38;5;124;43m\\\u001b[39;49m\u001b[38;5;124;43mDB\u001b[39;49m\u001b[38;5;124;43m\\\u001b[39;49m\u001b[38;5;124;43mDESCUENTOS PERMANENTES\u001b[39;49m\u001b[38;5;124;43m\\\u001b[39;49m\u001b[38;5;124;43mDB BI\u001b[39;49m\u001b[38;5;124;43m\\\u001b[39;49m\u001b[38;5;124;43mNoviembre\u001b[39;49m\u001b[38;5;124;43m\\\u001b[39;49m\u001b[38;5;124;43m2base\u001b[39;49m\u001b[38;5;124;43m\\\u001b[39;49m\u001b[38;5;124;43mbd2_izzi_email_limpia.csv\u001b[39;49m\u001b[38;5;124;43m'\u001b[39;49m\u001b[43m,\u001b[49m\n\u001b[0;32m      3\u001b[0m \u001b[43m                \u001b[49m\u001b[38;5;124;43mr\u001b[39;49m\u001b[38;5;124;43m'\u001b[39;49m\u001b[38;5;124;43mC:\u001b[39;49m\u001b[38;5;124;43m\\\u001b[39;49m\u001b[38;5;124;43mDocumentos\u001b[39;49m\u001b[38;5;124;43m\\\u001b[39;49m\u001b[38;5;124;43mTrabajo\u001b[39;49m\u001b[38;5;124;43m\\\u001b[39;49m\u001b[38;5;124;43mDB\u001b[39;49m\u001b[38;5;124;43m\\\u001b[39;49m\u001b[38;5;124;43mDESCUENTOS PERMANENTES\u001b[39;49m\u001b[38;5;124;43m\\\u001b[39;49m\u001b[38;5;124;43mDB BI\u001b[39;49m\u001b[38;5;124;43m\\\u001b[39;49m\u001b[38;5;124;43mNoviembre\u001b[39;49m\u001b[38;5;124;43m\\\u001b[39;49m\u001b[38;5;124;43m2base\u001b[39;49m\u001b[38;5;124;43m\\\u001b[39;49m\u001b[38;5;124;43mbd2_izzi_email_correos_eliminados.csv\u001b[39;49m\u001b[38;5;124;43m'\u001b[39;49m\u001b[43m,\u001b[49m\n\u001b[0;32m      4\u001b[0m \u001b[43m                \u001b[49m\u001b[43mwrong_words_regex\u001b[49m\u001b[43m)\u001b[49m\n",
      "File \u001b[1;32mc:\\Documentos\\Trabajo\\Funcion py\\def_correo_python.py:19\u001b[0m, in \u001b[0;36mlimpiar_correos\u001b[1;34m(input_csv, output_csv, correos_eliminados_csv, wrong_words_regex)\u001b[0m\n\u001b[0;32m      5\u001b[0m \u001b[38;5;250m\u001b[39m\u001b[38;5;124;03m\"\"\"\u001b[39;00m\n\u001b[0;32m      6\u001b[0m \u001b[38;5;124;03mElimina correos electrónicos que contienen patrones no deseados (basados en regex) de un archivo CSV\u001b[39;00m\n\u001b[0;32m      7\u001b[0m \u001b[38;5;124;03my elimina duplicados en el campo 'EMAIL' cuya frecuencia sea mayor a 4.\u001b[39;00m\n\u001b[1;32m   (...)\u001b[0m\n\u001b[0;32m     16\u001b[0m \u001b[38;5;124;03mcorreos_eliminados (list): Lista de correos electrónicos eliminados.\u001b[39;00m\n\u001b[0;32m     17\u001b[0m \u001b[38;5;124;03m\"\"\"\u001b[39;00m\n\u001b[0;32m     18\u001b[0m \u001b[38;5;66;03m# Cargar el archivo \u001b[39;00m\n\u001b[1;32m---> 19\u001b[0m df \u001b[38;5;241m=\u001b[39m \u001b[43mpd\u001b[49m\u001b[38;5;241m.\u001b[39mread_csv(input_csv, on_bad_lines \u001b[38;5;241m=\u001b[39m \u001b[38;5;124m'\u001b[39m\u001b[38;5;124mskip\u001b[39m\u001b[38;5;124m'\u001b[39m, low_memory\u001b[38;5;241m=\u001b[39m\u001b[38;5;28;01mFalse\u001b[39;00m,)\n\u001b[0;32m     21\u001b[0m \u001b[38;5;66;03m# Crear una máscara booleana para seleccionar filas donde 'EMAIL' no es nulo y filtrar\u001b[39;00m\n\u001b[0;32m     22\u001b[0m \u001b[38;5;28mprint\u001b[39m(\u001b[38;5;124m\"\u001b[39m\u001b[38;5;124mNúmero de registros antes de eliminar valores nulos en \u001b[39m\u001b[38;5;124m'\u001b[39m\u001b[38;5;124mEMAIL\u001b[39m\u001b[38;5;124m'\u001b[39m\u001b[38;5;124m:\u001b[39m\u001b[38;5;124m\"\u001b[39m, \u001b[38;5;28mlen\u001b[39m(df))\n",
      "\u001b[1;31mNameError\u001b[0m: name 'pd' is not defined"
     ]
    }
   ],
   "source": [
    "limpiar_correos(r'C:\\Documentos\\Trabajo\\DB\\DESCUENTOS PERMANENTES\\DB BI\\Noviembre\\2base\\bd2_izzi_email.csv',\n",
    "                r'C:\\Documentos\\Trabajo\\DB\\DESCUENTOS PERMANENTES\\DB BI\\Noviembre\\2base\\bd2_izzi_email_limpia.csv',\n",
    "                r'C:\\Documentos\\Trabajo\\DB\\DESCUENTOS PERMANENTES\\DB BI\\Noviembre\\2base\\bd2_izzi_email_correos_eliminados.csv',\n",
    "                wrong_words_regex)"
   ]
  },
  {
   "cell_type": "code",
   "execution_count": null,
   "metadata": {},
   "outputs": [],
   "source": []
  }
 ],
 "metadata": {
  "kernelspec": {
   "display_name": "Python 3",
   "language": "python",
   "name": "python3"
  },
  "language_info": {
   "codemirror_mode": {
    "name": "ipython",
    "version": 3
   },
   "file_extension": ".py",
   "mimetype": "text/x-python",
   "name": "python",
   "nbconvert_exporter": "python",
   "pygments_lexer": "ipython3",
   "version": "3.12.6"
  }
 },
 "nbformat": 4,
 "nbformat_minor": 2
}
