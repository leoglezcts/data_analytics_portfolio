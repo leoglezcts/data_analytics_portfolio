{
 "cells": [
  {
   "cell_type": "markdown",
   "metadata": {},
   "source": [
    "**Librerías**"
   ]
  },
  {
   "cell_type": "code",
   "execution_count": 12,
   "metadata": {},
   "outputs": [],
   "source": [
    "import pandas as pd\n",
    "import re"
   ]
  },
  {
   "cell_type": "markdown",
   "metadata": {},
   "source": [
    "**Declaración de Función Limpieza de SMS**"
   ]
  },
  {
   "cell_type": "code",
   "execution_count": 13,
   "metadata": {},
   "outputs": [],
   "source": [
    "def clean_sms(file_path, output_path):\n",
    "   '''Función para limpiar bases de SMS para validar \n",
    "   que el número sea igual a 10 dígitos y los nombres \n",
    "   de los clientes no contengan carácteres especiales.'''\n",
    "\n",
    "\n",
    "   # Leer archivo\n",
    "   df = pd.read_csv(file_path)\n",
    "\n",
    "   # Manejo de valores nulos y eliminación de espacios antes y después\n",
    "   df['NOMBRES'] = df['NOMBRES'].fillna('ESTIMADO').str.strip()\n",
    "   df['TEL_CELULAR'] = df['TEL_CELULAR'].fillna('').str.strip()\n",
    "\n",
    "   # Eliminar múltiples números celulares (solo conservar el primero)\n",
    "   df['TEL_CELULAR'] = df['TEL_CELULAR'].str.split('/').str[0]\n",
    "\n",
    "   # Filtrar registros con números de teléfono válidos (10 dígitos y no seriados)\n",
    "   invalid_numbers = ['5555555555', '0000000000', '1234567890']\n",
    "   df_clean = df[\n",
    "       (df['TEL_CELULAR'].str.len() == 10) &\n",
    "       (~df['TEL_CELULAR'].isin(invalid_numbers))\n",
    "   ]\n",
    "   # Limpiar el campo NOMBRES (primer nombre, sin caracteres especiales ni números)\n",
    "   df_clean['NOMBRES'] = (\n",
    "       df_clean['NOMBRES']\n",
    "       .str.split()\n",
    "       .str[0]\n",
    "       .str.replace(r'[^A-Za-z]+', '', regex=True)\n",
    "   )\n",
    "\n",
    "   df_clean['NOMBRES'] = df_clean['NOMBRES'].replace('MA', 'MARIA') #Remplazar los MA con María \n",
    "\n",
    "   # Exportar el archivo limpio\n",
    "   df_clean.to_csv(output_path, index=False)\n",
    "   return \"Felicidades, has limpiado tu base de SMS\"\n"
   ]
  },
  {
   "cell_type": "markdown",
   "metadata": {},
   "source": [
    "**Aplicación**"
   ]
  },
  {
   "cell_type": "code",
   "execution_count": 14,
   "metadata": {},
   "outputs": [
    {
     "data": {
      "text/plain": [
       "'Felicidades, has limpiado tu base de SMS'"
      ]
     },
     "execution_count": 14,
     "metadata": {},
     "output_type": "execute_result"
    }
   ],
   "source": [
    "# Ejemplo de uso\n",
    "clean_sms(r\"C:\\Users\\lgonzalezc\\Downloads\\prueba_sms.csv\",\n",
    "          r\"C:\\Users\\lgonzalezc\\Downloads\\prueba_sms_limpia.csv\"\n",
    "          )\n"
   ]
  }
 ],
 "metadata": {
  "kernelspec": {
   "display_name": "Python 3",
   "language": "python",
   "name": "python3"
  },
  "language_info": {
   "codemirror_mode": {
    "name": "ipython",
    "version": 3
   },
   "file_extension": ".py",
   "mimetype": "text/x-python",
   "name": "python",
   "nbconvert_exporter": "python",
   "pygments_lexer": "ipython3",
   "version": "3.13.0"
  }
 },
 "nbformat": 4,
 "nbformat_minor": 2
}
